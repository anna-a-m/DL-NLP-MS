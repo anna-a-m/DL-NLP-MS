{
 "cells": [
  {
   "cell_type": "code",
   "execution_count": 1,
   "metadata": {},
   "outputs": [],
   "source": [
    "import json\n",
    "import random\n",
    "from tqdm import tqdm\n",
    "import numpy as np\n",
    "\n",
    "from matplotlib import pyplot as plt\n",
    "from sklearn.decomposition import TruncatedSVD\n",
    "from sklearn.manifold import TSNE\n",
    "\n",
    "import torch\n",
    "import wandb\n",
    "\n",
    "from pylab import rcParams\n",
    "rcParams['figure.figsize'] = 15, 15"
   ]
  },
  {
   "cell_type": "markdown",
   "metadata": {},
   "source": [
    "# Загружаем данные"
   ]
  },
  {
   "cell_type": "code",
   "execution_count": 2,
   "metadata": {},
   "outputs": [],
   "source": [
    "with open('data/processed_corpus.json', encoding='utf-8') as f:\n",
    "    corpus = json.load(f)"
   ]
  },
  {
   "cell_type": "code",
   "execution_count": 3,
   "metadata": {},
   "outputs": [
    {
     "name": "stdout",
     "output_type": "stream",
     "text": [
      "Corpus length: 100000\n",
      "второй UNK год окончательно разочаровать решить податься альфабанк\n",
      "вернуть денежный средство лицевой счёт либо зачесть счёт погашение кредит\n",
      "притом ситуация решиться участие течение сутки заявить\n",
      "мой ##число летний жизнь это самый неповоротливый работник банк который видеть\n",
      "везде написать вклад принимать очередь это\n"
     ]
    }
   ],
   "source": [
    "print('Corpus length:', len(corpus))\n",
    "for text in corpus[:5]:\n",
    "    print(' '.join(text))"
   ]
  },
  {
   "cell_type": "markdown",
   "metadata": {},
   "source": [
    "# CBOW"
   ]
  },
  {
   "cell_type": "code",
   "execution_count": 4,
   "metadata": {},
   "outputs": [
    {
     "data": {
      "text/plain": [
       "'вернуть денежный средство лицевой счёт либо зачесть счёт погашение кредит'"
      ]
     },
     "execution_count": 4,
     "metadata": {},
     "output_type": "execute_result"
    }
   ],
   "source": [
    "sample_text = corpus[1]\n",
    "' '.join(sample_text)"
   ]
  },
  {
   "cell_type": "markdown",
   "metadata": {},
   "source": [
    "## Реализуйте разделение предложения на примеры методом CBOW"
   ]
  },
  {
   "cell_type": "code",
   "execution_count": 5,
   "metadata": {},
   "outputs": [],
   "source": [
    "def cbow_split(tokens, window, pad_token='PAD'):\n",
    "    # дополняем последовательность нужными тегами\n",
    "    tokens_copy = ['PAD'] * window + tokens + ['PAD'] * window\n",
    "    seq_len = len(tokens_copy)  - window\n",
    "    \n",
    "    # последовательно отдаем срез левого контекста, таргетное слово и срез правого контекста\n",
    "    for i in range(window, seq_len):\n",
    "        yield [\n",
    "            tokens_copy[i-2:i],\n",
    "            tokens_copy[i],\n",
    "            tokens_copy[i+1:i+1+window]\n",
    "        ]\n",
    "        \n",
    "# преобразуем в список выход из генератора\n",
    "splits = list(cbow_split(sample_text, window=2))"
   ]
  },
  {
   "cell_type": "code",
   "execution_count": 6,
   "metadata": {},
   "outputs": [
    {
     "name": "stdout",
     "output_type": "stream",
     "text": [
      "Левый контекст: ['PAD', 'PAD']\n",
      "Центральное слово: вернуть\n",
      "Правый контекст: ['денежный', 'средство']\n",
      "\n",
      "Левый контекст: ['PAD', 'вернуть']\n",
      "Центральное слово: денежный\n",
      "Правый контекст: ['средство', 'лицевой']\n",
      "\n",
      "Левый контекст: ['вернуть', 'денежный']\n",
      "Центральное слово: средство\n",
      "Правый контекст: ['лицевой', 'счёт']\n",
      "\n"
     ]
    }
   ],
   "source": [
    "for sample in splits[:3]:\n",
    "    print('Левый контекст:', sample[0])\n",
    "    print('Центральное слово:', sample[1])\n",
    "    print('Правый контекст:', sample[2], end='\\n\\n')"
   ]
  },
  {
   "cell_type": "code",
   "execution_count": 7,
   "metadata": {},
   "outputs": [
    {
     "data": {
      "text/plain": [
       "[[['PAD', 'PAD'], 'вернуть', ['денежный', 'средство']],\n",
       " [['PAD', 'вернуть'], 'денежный', ['средство', 'лицевой']],\n",
       " [['вернуть', 'денежный'], 'средство', ['лицевой', 'счёт']],\n",
       " [['денежный', 'средство'], 'лицевой', ['счёт', 'либо']],\n",
       " [['средство', 'лицевой'], 'счёт', ['либо', 'зачесть']],\n",
       " [['лицевой', 'счёт'], 'либо', ['зачесть', 'счёт']],\n",
       " [['счёт', 'либо'], 'зачесть', ['счёт', 'погашение']],\n",
       " [['либо', 'зачесть'], 'счёт', ['погашение', 'кредит']],\n",
       " [['зачесть', 'счёт'], 'погашение', ['кредит', 'PAD']],\n",
       " [['счёт', 'погашение'], 'кредит', ['PAD', 'PAD']]]"
      ]
     },
     "execution_count": 7,
     "metadata": {},
     "output_type": "execute_result"
    }
   ],
   "source": [
    "splits"
   ]
  },
  {
   "cell_type": "markdown",
   "metadata": {},
   "source": [
    "## Expected\n",
    "\n",
    "```python\n",
    "[(['PAD', 'PAD'], 'вопрос', ['почему', 'например']),\n",
    " (['PAD', 'вопрос'], 'почему', ['например', 'китайский']),\n",
    " (['вопрос', 'почему'], 'например', ['китайский', 'японский']),\n",
    " (['почему', 'например'], 'китайский', ['японский', 'UNK']),\n",
    " (['например', 'китайский'], 'японский', ['UNK', 'PAD']),\n",
    " (['китайский', 'японский'], 'UNK', ['PAD', 'PAD'])]\n",
    "```"
   ]
  },
  {
   "cell_type": "code",
   "execution_count": 8,
   "metadata": {},
   "outputs": [
    {
     "data": {
      "text/plain": [
       "[[['PAD', 'PAD'], 'вернуть', ['денежный', 'средство', 'лицевой']],\n",
       " [['PAD', 'вернуть'], 'денежный', ['средство', 'лицевой', 'счёт']],\n",
       " [['вернуть', 'денежный'], 'средство', ['лицевой', 'счёт', 'либо']],\n",
       " [['денежный', 'средство'], 'лицевой', ['счёт', 'либо', 'зачесть']],\n",
       " [['средство', 'лицевой'], 'счёт', ['либо', 'зачесть', 'счёт']],\n",
       " [['лицевой', 'счёт'], 'либо', ['зачесть', 'счёт', 'погашение']],\n",
       " [['счёт', 'либо'], 'зачесть', ['счёт', 'погашение', 'кредит']],\n",
       " [['либо', 'зачесть'], 'счёт', ['погашение', 'кредит', 'PAD']],\n",
       " [['зачесть', 'счёт'], 'погашение', ['кредит', 'PAD', 'PAD']],\n",
       " [['счёт', 'погашение'], 'кредит', ['PAD', 'PAD', 'PAD']]]"
      ]
     },
     "execution_count": 8,
     "metadata": {},
     "output_type": "execute_result"
    }
   ],
   "source": [
    "list(cbow_split(sample_text, window=3))"
   ]
  },
  {
   "cell_type": "markdown",
   "metadata": {},
   "source": [
    "## Expected\n",
    "\n",
    "```python\n",
    "[(['PAD', 'PAD', 'PAD'], 'вопрос', ['почему', 'например', 'китайский']),\n",
    " (['PAD', 'PAD', 'вопрос'], 'почему', ['например', 'китайский', 'японский']),\n",
    " (['PAD', 'вопрос', 'почему'], 'например', ['китайский', 'японский', 'UNK']),\n",
    " (['вопрос', 'почему', 'например'], 'китайский', ['японский', 'UNK', 'PAD']),\n",
    " (['почему', 'например', 'китайский'], 'японский', ['UNK', 'PAD', 'PAD']),\n",
    " (['например', 'китайский', 'японский'], 'UNK', ['PAD', 'PAD', 'PAD'])]\n",
    "```"
   ]
  },
  {
   "cell_type": "markdown",
   "metadata": {},
   "source": [
    "# Skipgram"
   ]
  },
  {
   "cell_type": "markdown",
   "metadata": {},
   "source": [
    "## Реализуйте разделение предложения на примеры методом Skipgram"
   ]
  },
  {
   "cell_type": "code",
   "execution_count": 9,
   "metadata": {},
   "outputs": [],
   "source": [
    "def skipgram_split(tokens, window):\n",
    "    \n",
    "    for i, target_tok in enumerate(tokens):\n",
    "        \n",
    "        for context in tokens[max(i-window, 0):i+1+window]:\n",
    "            if context != target_tok:\n",
    "                yield [context, target_tok]\n",
    "                \n",
    "splits = list(skipgram_split(sample_text, window=2))"
   ]
  },
  {
   "cell_type": "code",
   "execution_count": 10,
   "metadata": {},
   "outputs": [
    {
     "name": "stdout",
     "output_type": "stream",
     "text": [
      "Контекст: денежный\n",
      "Центральное слово: вернуть\n",
      "\n",
      "Контекст: средство\n",
      "Центральное слово: вернуть\n",
      "\n",
      "Контекст: вернуть\n",
      "Центральное слово: денежный\n",
      "\n"
     ]
    }
   ],
   "source": [
    "for sample in splits[:3]:\n",
    "    print('Контекст:', sample[0])\n",
    "    print('Центральное слово:', sample[1], end='\\n\\n')"
   ]
  },
  {
   "cell_type": "code",
   "execution_count": 11,
   "metadata": {},
   "outputs": [
    {
     "data": {
      "text/plain": [
       "[['денежный', 'вернуть'],\n",
       " ['средство', 'вернуть'],\n",
       " ['вернуть', 'денежный'],\n",
       " ['средство', 'денежный'],\n",
       " ['лицевой', 'денежный'],\n",
       " ['вернуть', 'средство'],\n",
       " ['денежный', 'средство'],\n",
       " ['лицевой', 'средство'],\n",
       " ['счёт', 'средство'],\n",
       " ['денежный', 'лицевой'],\n",
       " ['средство', 'лицевой'],\n",
       " ['счёт', 'лицевой'],\n",
       " ['либо', 'лицевой'],\n",
       " ['средство', 'счёт'],\n",
       " ['лицевой', 'счёт'],\n",
       " ['либо', 'счёт'],\n",
       " ['зачесть', 'счёт'],\n",
       " ['лицевой', 'либо'],\n",
       " ['счёт', 'либо'],\n",
       " ['зачесть', 'либо'],\n",
       " ['счёт', 'либо'],\n",
       " ['счёт', 'зачесть'],\n",
       " ['либо', 'зачесть'],\n",
       " ['счёт', 'зачесть'],\n",
       " ['погашение', 'зачесть'],\n",
       " ['либо', 'счёт'],\n",
       " ['зачесть', 'счёт'],\n",
       " ['погашение', 'счёт'],\n",
       " ['кредит', 'счёт'],\n",
       " ['зачесть', 'погашение'],\n",
       " ['счёт', 'погашение'],\n",
       " ['кредит', 'погашение'],\n",
       " ['счёт', 'кредит'],\n",
       " ['погашение', 'кредит']]"
      ]
     },
     "execution_count": 11,
     "metadata": {},
     "output_type": "execute_result"
    }
   ],
   "source": [
    "list(skipgram_split(sample_text, window=2))"
   ]
  },
  {
   "cell_type": "markdown",
   "metadata": {},
   "source": [
    "## Expected\n",
    "\n",
    "```python\n",
    "[('почему', 'вопрос'),\n",
    " ('например', 'вопрос'),\n",
    " ('вопрос', 'почему'),\n",
    " ('например', 'почему'),\n",
    " ('китайский', 'почему'),\n",
    " ('вопрос', 'например'),\n",
    " ('почему', 'например'),\n",
    " ('китайский', 'например'),\n",
    " ('японский', 'например'),\n",
    " ('почему', 'китайский'),\n",
    " ('например', 'китайский'),\n",
    " ('японский', 'китайский'),\n",
    " ('UNK', 'китайский'),\n",
    " ('например', 'японский'),\n",
    " ('китайский', 'японский'),\n",
    " ('UNK', 'японский'),\n",
    " ('китайский', 'UNK'),\n",
    " ('японский', 'UNK')]\n",
    "```"
   ]
  },
  {
   "cell_type": "code",
   "execution_count": 12,
   "metadata": {},
   "outputs": [
    {
     "data": {
      "text/plain": [
       "[['денежный', 'вернуть'],\n",
       " ['средство', 'вернуть'],\n",
       " ['лицевой', 'вернуть'],\n",
       " ['вернуть', 'денежный'],\n",
       " ['средство', 'денежный'],\n",
       " ['лицевой', 'денежный'],\n",
       " ['счёт', 'денежный'],\n",
       " ['вернуть', 'средство'],\n",
       " ['денежный', 'средство'],\n",
       " ['лицевой', 'средство'],\n",
       " ['счёт', 'средство'],\n",
       " ['либо', 'средство'],\n",
       " ['вернуть', 'лицевой'],\n",
       " ['денежный', 'лицевой'],\n",
       " ['средство', 'лицевой'],\n",
       " ['счёт', 'лицевой'],\n",
       " ['либо', 'лицевой'],\n",
       " ['зачесть', 'лицевой'],\n",
       " ['денежный', 'счёт'],\n",
       " ['средство', 'счёт'],\n",
       " ['лицевой', 'счёт'],\n",
       " ['либо', 'счёт'],\n",
       " ['зачесть', 'счёт'],\n",
       " ['средство', 'либо'],\n",
       " ['лицевой', 'либо'],\n",
       " ['счёт', 'либо'],\n",
       " ['зачесть', 'либо'],\n",
       " ['счёт', 'либо'],\n",
       " ['погашение', 'либо'],\n",
       " ['лицевой', 'зачесть'],\n",
       " ['счёт', 'зачесть'],\n",
       " ['либо', 'зачесть'],\n",
       " ['счёт', 'зачесть'],\n",
       " ['погашение', 'зачесть'],\n",
       " ['кредит', 'зачесть'],\n",
       " ['либо', 'счёт'],\n",
       " ['зачесть', 'счёт'],\n",
       " ['погашение', 'счёт'],\n",
       " ['кредит', 'счёт'],\n",
       " ['либо', 'погашение'],\n",
       " ['зачесть', 'погашение'],\n",
       " ['счёт', 'погашение'],\n",
       " ['кредит', 'погашение'],\n",
       " ['зачесть', 'кредит'],\n",
       " ['счёт', 'кредит'],\n",
       " ['погашение', 'кредит']]"
      ]
     },
     "execution_count": 12,
     "metadata": {},
     "output_type": "execute_result"
    }
   ],
   "source": [
    "list(skipgram_split(sample_text, window=3))"
   ]
  },
  {
   "cell_type": "code",
   "execution_count": 3,
   "metadata": {},
   "outputs": [
    {
     "name": "stdout",
     "output_type": "stream",
     "text": [
      "Vocabulary length: 13076 \n",
      "Index of UNK token 1\n"
     ]
    }
   ],
   "source": [
    "word2index = {}\n",
    "\n",
    "for text in corpus:\n",
    "    for token in text:\n",
    "        if token not in word2index:\n",
    "            word2index[token] = len(word2index)\n",
    "            \n",
    "            \n",
    "print('Vocabulary length:', len(word2index), '\\nIndex of UNK token', word2index['UNK'])"
   ]
  },
  {
   "cell_type": "code",
   "execution_count": 14,
   "metadata": {},
   "outputs": [
    {
     "data": {
      "text/plain": [
       "[1282, 8436, 1]"
      ]
     },
     "execution_count": 14,
     "metadata": {},
     "output_type": "execute_result"
    }
   ],
   "source": [
    "[word2index[tok] if tok in word2index else word2index['UNK'] for tok in 'мама мыть рама'.split()]"
   ]
  },
  {
   "cell_type": "markdown",
   "metadata": {},
   "source": [
    "# Torch Dataset\n",
    "В торче есть очень удобная читалка данных"
   ]
  },
  {
   "cell_type": "code",
   "execution_count": 15,
   "metadata": {},
   "outputs": [],
   "source": [
    "from torch.utils.data import Dataset, DataLoader"
   ]
  },
  {
   "cell_type": "code",
   "execution_count": 16,
   "metadata": {},
   "outputs": [],
   "source": [
    "# игрушечный датасет\n",
    "# 121535 примера, 4 фичи, 3 класса\n",
    "some_data_x = np.random.rand(121535, 4)\n",
    "some_data_y = np.random.randint(3, size=(121535,))"
   ]
  },
  {
   "cell_type": "code",
   "execution_count": 17,
   "metadata": {},
   "outputs": [
    {
     "data": {
      "text/plain": [
       "array([[0.35453404, 0.15025155, 0.90116211, 0.0971911 ],\n",
       "       [0.54280478, 0.75906449, 0.58294513, 0.12389473],\n",
       "       [0.24163189, 0.50317963, 0.20846688, 0.50745017],\n",
       "       [0.53226397, 0.06381856, 0.30855885, 0.0452815 ],\n",
       "       [0.34309547, 0.56140863, 0.64313644, 0.1386887 ],\n",
       "       [0.34663635, 0.29325772, 0.50375566, 0.03505337],\n",
       "       [0.3180392 , 0.44125958, 0.11922348, 0.28499495],\n",
       "       [0.55452569, 0.83346591, 0.538324  , 0.31018276],\n",
       "       [0.88105536, 0.93738832, 0.75736945, 0.18321601],\n",
       "       [0.6850886 , 0.45060405, 0.25043265, 0.70841084]])"
      ]
     },
     "execution_count": 17,
     "metadata": {},
     "output_type": "execute_result"
    }
   ],
   "source": [
    "# соверешенно игрушечный, просто цифры\n",
    "some_data_x[:10]"
   ]
  },
  {
   "cell_type": "code",
   "execution_count": 18,
   "metadata": {},
   "outputs": [
    {
     "data": {
      "text/plain": [
       "array([1, 1, 0, ..., 0, 1, 0])"
      ]
     },
     "execution_count": 18,
     "metadata": {},
     "output_type": "execute_result"
    }
   ],
   "source": [
    "some_data_y"
   ]
  },
  {
   "cell_type": "code",
   "execution_count": 19,
   "metadata": {},
   "outputs": [],
   "source": [
    "class ToyDataset(Dataset):\n",
    "    \n",
    "    def __init__(self, data_x, data_y):\n",
    "        \n",
    "        super().__init__()\n",
    "        \n",
    "        self.data_x = data_x\n",
    "        self.data_y = data_y\n",
    "        \n",
    "    def __len__(self):\n",
    "        \n",
    "        # Нужно обязательно определить эту функцию\n",
    "        # Должна возвращать размер датасета\n",
    "        \n",
    "        return len(self.data_x)\n",
    "    \n",
    "    def __getitem__(self, idx):\n",
    "        \n",
    "        # Еще нужно определить этот метод\n",
    "        # То есть как мы будем доставать наши данные по индексу\n",
    "        \n",
    "        return self.data_x[idx], self.data_y[idx]"
   ]
  },
  {
   "cell_type": "code",
   "execution_count": 20,
   "metadata": {},
   "outputs": [
    {
     "data": {
      "text/plain": [
       "((array([0.34663635, 0.29325772, 0.50375566, 0.03505337]), 1),\n",
       " (array([0.18585658, 0.67022462, 0.04040156, 0.08156871]), 0))"
      ]
     },
     "execution_count": 20,
     "metadata": {},
     "output_type": "execute_result"
    }
   ],
   "source": [
    "some_dataset = ToyDataset(some_data_x, some_data_y)\n",
    "some_dataset[5], some_dataset[467]"
   ]
  },
  {
   "cell_type": "code",
   "execution_count": 21,
   "metadata": {},
   "outputs": [
    {
     "data": {
      "text/plain": [
       "(16,\n",
       " tensor([[0.9426, 0.5520, 0.3379, 0.4192],\n",
       "         [0.7305, 0.5630, 0.9489, 0.8690],\n",
       "         [0.7187, 0.0495, 0.1853, 0.3804],\n",
       "         [0.2200, 0.5509, 0.4869, 0.1931],\n",
       "         [0.2708, 0.7748, 0.3939, 0.9479],\n",
       "         [0.6961, 0.6754, 0.7553, 0.9639],\n",
       "         [0.8623, 0.3670, 0.3847, 0.6589],\n",
       "         [0.4683, 0.4587, 0.4763, 0.6544],\n",
       "         [0.3711, 0.0091, 0.1801, 0.9176],\n",
       "         [0.7969, 0.8395, 0.8634, 0.8001],\n",
       "         [0.1896, 0.7298, 0.0759, 0.1345],\n",
       "         [0.8974, 0.7080, 0.1317, 0.0119],\n",
       "         [0.5329, 0.6269, 0.4267, 0.1274],\n",
       "         [0.5095, 0.0413, 0.5966, 0.6259],\n",
       "         [0.7182, 0.7639, 0.4619, 0.3035],\n",
       "         [0.1309, 0.9550, 0.4814, 0.1491]], dtype=torch.float64))"
      ]
     },
     "execution_count": 21,
     "metadata": {},
     "output_type": "execute_result"
    }
   ],
   "source": [
    "some_loader = DataLoader(some_dataset, batch_size=16, shuffle=True)\n",
    "\n",
    "x, y = next(iter(some_loader))\n",
    "    \n",
    "len(x), x"
   ]
  },
  {
   "cell_type": "code",
   "execution_count": 22,
   "metadata": {},
   "outputs": [
    {
     "data": {
      "text/plain": [
       "16"
      ]
     },
     "execution_count": 22,
     "metadata": {},
     "output_type": "execute_result"
    }
   ],
   "source": [
    "x, y = next(iter(some_loader))\n",
    "\n",
    "len(x)"
   ]
  },
  {
   "cell_type": "markdown",
   "metadata": {},
   "source": [
    "# А зачем?"
   ]
  },
  {
   "cell_type": "code",
   "execution_count": 23,
   "metadata": {},
   "outputs": [],
   "source": [
    "class ToyDataset(Dataset):\n",
    "    \n",
    "    def __init__(self, data_x, data_y):\n",
    "        \n",
    "        super().__init__()\n",
    "        \n",
    "        self.data_x = data_x\n",
    "        self.data_y = data_y\n",
    "        \n",
    "    def __len__(self):\n",
    "        \n",
    "        # Нужно обязательно определить эту функцию\n",
    "        # Должна возвращать размер датасета\n",
    "        \n",
    "        return len(self.data_x)\n",
    "    \n",
    "    @staticmethod\n",
    "    def add_pow_features(x, n=2):\n",
    "        \n",
    "        return np.concatenate([x, x ** n]) \n",
    "    \n",
    "    @staticmethod\n",
    "    def add_log_features(x):\n",
    "        \n",
    "        return np.concatenate([x, np.log(x)]) \n",
    "    \n",
    "    def __getitem__(self, idx):\n",
    "        \n",
    "        # Еще нужно определить этот метод\n",
    "        # То есть как мы будем доставать наши данные по индексу\n",
    "        \n",
    "        x = self.data_x[idx]\n",
    "        \n",
    "        # внутри датасета мы можем делать все что угодно с нашими данными\n",
    "        # например выше определим функции, которые добавляют степенные фичи\n",
    "        x = self.add_pow_features(x, n=2)\n",
    "        x = self.add_pow_features(x, n=3)\n",
    "        # и еще возьмем логарифмические фичи\n",
    "        x = self.add_log_features(x)\n",
    "        \n",
    "        y = self.data_y[idx]\n",
    "        \n",
    "        return x, y"
   ]
  },
  {
   "cell_type": "code",
   "execution_count": 24,
   "metadata": {},
   "outputs": [],
   "source": [
    "toy_dataset = ToyDataset(some_data_x, some_data_y)\n",
    "toy_loader = DataLoader(dataset=toy_dataset, batch_size=128)"
   ]
  },
  {
   "cell_type": "code",
   "execution_count": 25,
   "metadata": {},
   "outputs": [
    {
     "data": {
      "text/plain": [
       "torch.Size([128, 32])"
      ]
     },
     "execution_count": 25,
     "metadata": {},
     "output_type": "execute_result"
    }
   ],
   "source": [
    "x, y = next(iter(toy_loader))\n",
    "x.shape"
   ]
  },
  {
   "cell_type": "code",
   "execution_count": 26,
   "metadata": {},
   "outputs": [
    {
     "data": {
      "text/plain": [
       "tensor([[ 3.5453e-01,  1.5025e-01,  9.0116e-01,  ..., -1.1373e+01,\n",
       "         -6.2442e-01, -1.3986e+01],\n",
       "        [ 5.4280e-01,  7.5906e-01,  5.8295e-01,  ..., -1.6540e+00,\n",
       "         -3.2380e+00, -1.2530e+01],\n",
       "        [ 2.4163e-01,  5.0318e-01,  2.0847e-01,  ..., -4.1208e+00,\n",
       "         -9.4079e+00, -4.0701e+00],\n",
       "        ...,\n",
       "        [ 5.2638e-01,  8.2904e-01,  4.3808e-01,  ..., -1.1249e+00,\n",
       "         -4.9521e+00, -8.9222e-01],\n",
       "        [ 6.7461e-01,  8.7850e-01,  1.0019e-03,  ..., -7.7726e-01,\n",
       "         -4.1435e+01, -2.3349e-01],\n",
       "        [ 6.2693e-02,  1.5456e-01,  8.7761e-01,  ..., -1.1203e+01,\n",
       "         -7.8332e-01, -9.2877e+00]], dtype=torch.float64)"
      ]
     },
     "execution_count": 26,
     "metadata": {},
     "output_type": "execute_result"
    }
   ],
   "source": [
    "# заметим, что мы сразу получаем торчовый формат данных\n",
    "x"
   ]
  },
  {
   "cell_type": "code",
   "execution_count": 27,
   "metadata": {},
   "outputs": [
    {
     "data": {
      "text/plain": [
       "tensor([1, 1, 0, 1, 1, 1, 2, 0, 2, 2, 2, 1, 2, 2, 2, 0, 0, 1, 0, 0, 1, 2, 2, 2,\n",
       "        2, 0, 1, 2, 1, 1, 0, 2, 0, 1, 1, 2, 2, 2, 1, 1, 0, 1, 2, 1, 0, 0, 1, 0,\n",
       "        1, 1, 1, 0, 0, 0, 2, 2, 0, 1, 1, 2, 2, 0, 1, 2, 2, 1, 2, 0, 1, 2, 1, 2,\n",
       "        2, 0, 1, 0, 2, 2, 1, 0, 0, 1, 2, 2, 0, 2, 2, 0, 1, 0, 1, 0, 0, 1, 0, 0,\n",
       "        0, 0, 2, 0, 1, 2, 1, 2, 1, 1, 2, 2, 1, 1, 1, 0, 0, 0, 1, 2, 2, 1, 2, 1,\n",
       "        0, 0, 0, 0, 0, 2, 2, 0])"
      ]
     },
     "execution_count": 27,
     "metadata": {},
     "output_type": "execute_result"
    }
   ],
   "source": [
    "y"
   ]
  },
  {
   "cell_type": "code",
   "execution_count": 28,
   "metadata": {},
   "outputs": [],
   "source": [
    "model = torch.nn.Sequential(torch.nn.Linear(32, 16),\n",
    "                            torch.nn.ReLU(),\n",
    "                            torch.nn.Linear(16, 8),\n",
    "                            torch.nn.ReLU(),\n",
    "                            torch.nn.Linear(8, 3))\n",
    "\n",
    "criterion = torch.nn.CrossEntropyLoss()"
   ]
  },
  {
   "cell_type": "code",
   "execution_count": 29,
   "metadata": {},
   "outputs": [
    {
     "data": {
      "text/plain": [
       "1.1457834243774414"
      ]
     },
     "execution_count": 29,
     "metadata": {},
     "output_type": "execute_result"
    }
   ],
   "source": [
    "with torch.no_grad():\n",
    "\n",
    "    prediction = model(x.float())\n",
    "\n",
    "    loss = criterion(prediction, y.long())\n",
    "    \n",
    "loss.item()"
   ]
  },
  {
   "cell_type": "markdown",
   "metadata": {},
   "source": [
    "# Боевые датасеты"
   ]
  },
  {
   "cell_type": "markdown",
   "metadata": {},
   "source": [
    "## Мы будем учить модель Skipgram - Реализуйте читалку данных и модель"
   ]
  },
  {
   "cell_type": "code",
   "execution_count": 30,
   "metadata": {},
   "outputs": [],
   "source": [
    "from word2vec_utils import SkipgramDataset, SkipGram"
   ]
  },
  {
   "cell_type": "code",
   "execution_count": 31,
   "metadata": {
    "scrolled": true
   },
   "outputs": [
    {
     "name": "stderr",
     "output_type": "stream",
     "text": [
      "100%|████████████████████████████████████████████████████████████████████████| 100000/100000 [00:03<00:00, 30426.07it/s]\n"
     ]
    }
   ],
   "source": [
    "dataset = SkipgramDataset(corpus, word2index)"
   ]
  },
  {
   "cell_type": "code",
   "execution_count": 32,
   "metadata": {},
   "outputs": [],
   "source": [
    "dataset_loader = DataLoader(dataset, shuffle=True, batch_size=5)"
   ]
  },
  {
   "cell_type": "code",
   "execution_count": 33,
   "metadata": {},
   "outputs": [],
   "source": [
    "x, y = next(iter(dataset_loader)) "
   ]
  },
  {
   "cell_type": "code",
   "execution_count": 34,
   "metadata": {},
   "outputs": [
    {
     "data": {
      "text/plain": [
       "(tensor([ 1744,   160,    88, 11839,    70]),\n",
       " torch.Size([5]),\n",
       " tensor([ 112,   25,   95, 2940, 1011]),\n",
       " torch.Size([5]))"
      ]
     },
     "execution_count": 34,
     "metadata": {},
     "output_type": "execute_result"
    }
   ],
   "source": [
    "x, x.shape, y, y.shape"
   ]
  },
  {
   "cell_type": "code",
   "execution_count": 35,
   "metadata": {},
   "outputs": [],
   "source": [
    "model = SkipGram(vocab_size=len(word2index), embedding_dim=20)"
   ]
  },
  {
   "cell_type": "code",
   "execution_count": 36,
   "metadata": {},
   "outputs": [
    {
     "data": {
      "text/plain": [
       "torch.Size([5, 13076])"
      ]
     },
     "execution_count": 36,
     "metadata": {},
     "output_type": "execute_result"
    }
   ],
   "source": [
    "with torch.no_grad():\n",
    "    pred = model(x)\n",
    "\n",
    "pred.shape"
   ]
  },
  {
   "cell_type": "markdown",
   "metadata": {},
   "source": [
    "# Допишите обучалку\n",
    "\n",
    "**Написала по шаблону, который на работе обычно использую**"
   ]
  },
  {
   "cell_type": "code",
   "execution_count": 37,
   "metadata": {},
   "outputs": [],
   "source": [
    "config = {\"method\": \"grid\",\n",
    "    \"parameters\": {\n",
    "    \"epochs\": {\n",
    "        \"value\": 10\n",
    "    },\n",
    "    \"batch_size\": {\n",
    "        \"value\": 1024\n",
    "    },\n",
    "    \"lr\": {\n",
    "        \"values\": [1e-3, 3e-4, 1e-5]\n",
    "    },        \n",
    "    \"embedding_dim\": {\n",
    "        \"values\": [20, 100, 300]\n",
    "    },\n",
    "    \"seed\": {\n",
    "        \"value\": 42\n",
    "    }}}"
   ]
  },
  {
   "cell_type": "code",
   "execution_count": 38,
   "metadata": {},
   "outputs": [],
   "source": [
    "def train_step(model: torch.nn.Module, \n",
    "               dataloader: torch.utils.data.DataLoader, \n",
    "               loss_fn: torch.nn.Module, \n",
    "               optimizer: torch.optim.Optimizer,\n",
    "               device: torch.device):\n",
    "    \n",
    "    model.train()\n",
    "    train_loss = 0\n",
    "\n",
    "    for batch, (X, y) in enumerate(dataloader):\n",
    "        X, y = X.to(device), y.to(device)\n",
    "        y_pred = model(X)\n",
    "\n",
    "        loss = loss_fn(y_pred, y)\n",
    "        train_loss += loss.item() \n",
    "\n",
    "        optimizer.zero_grad()\n",
    "        loss.backward()\n",
    "        optimizer.step()\n",
    "\n",
    "        wandb.log({\"batch train loss\": loss.item()})\n",
    "    \n",
    "    return train_loss / len(dataloader)"
   ]
  },
  {
   "cell_type": "code",
   "execution_count": 39,
   "metadata": {},
   "outputs": [],
   "source": [
    "from torch.nn import DataParallel\n",
    "\n",
    "def sweep_training(config=None):\n",
    "    global corpus, word2index\n",
    "    \n",
    "    with wandb.init(config=config) as run:\n",
    "        config = wandb.config\n",
    "        torch.manual_seed(config.seed)\n",
    "        random.seed(config.seed)\n",
    "        np.random.seed(config.seed)\n",
    "        \n",
    "        model_name = f'skipgram_vec_dim{config.embedding_dim}_lr{config.lr}'\n",
    "        run.name = model_name\n",
    "        \n",
    "        dataset = SkipgramDataset(corpus, word2index, collect_verbose=False)\n",
    "        train_dataloader = DataLoader(dataset, shuffle=True, batch_size=config.batch_size)        \n",
    "\n",
    "        model = SkipGram(vocab_size=len(word2index), embedding_dim=config.embedding_dim)\n",
    "        optimizer = torch.optim.Adam(params=model.parameters(), lr=config.lr)\n",
    "        criterion = torch.nn.CrossEntropyLoss()\n",
    "        \n",
    "        device = 'cuda'\n",
    "        model = DataParallel(model).to(device)\n",
    "        \n",
    "        for n_epoch in range(config.epochs):\n",
    "            avg_train_loss = train_step(model=model,\n",
    "                                        dataloader=train_dataloader,\n",
    "                                        loss_fn=criterion,\n",
    "                                        optimizer=optimizer,\n",
    "                                        device=device)\n",
    "            wandb.log({\"train loss\": avg_train_loss,\n",
    "                       \"epoch\": n_epoch})\n",
    "            \n",
    "        torch.save(model.module.in_embedding.state_dict()['weight'],\n",
    "                   model_name + '.pt')"
   ]
  },
  {
   "cell_type": "code",
   "execution_count": null,
   "metadata": {},
   "outputs": [],
   "source": [
    "sweep_id = wandb.sweep(config, project=\"skipgram-on-bank-corpus\")\n",
    "wandb.agent(sweep_id, sweep_training)"
   ]
  },
  {
   "cell_type": "markdown",
   "metadata": {},
   "source": [
    "[Ссылка на логгинг](https://wandb.ai/annette-mikhaylova/skipgram-on-bank-corpus/reports/HW1-logging--Vmlldzo1NzM3Mjgy)\n",
    "\n",
    "<div>\n",
    "<img src=\"logs.png\" width=\"700\"/>\n",
    "</div>\n",
    "\n",
    "**Вывод:** лучше всего учится с lr 0.001 и векторами размера 300. К сожалению, качество полученных векторов несмотря на низкий лосс. Видимо, модель подстроилась под специфичный корпус. Поэтому далее используем вектора размера 20"
   ]
  },
  {
   "cell_type": "code",
   "execution_count": 4,
   "metadata": {},
   "outputs": [],
   "source": [
    "embedding_matrix = torch.load('skipgram_vec_dim20_lr0.001.pt')\n",
    "embedding_matrix = embedding_matrix.detach().cpu()"
   ]
  },
  {
   "cell_type": "code",
   "execution_count": 43,
   "metadata": {},
   "outputs": [],
   "source": [
    "def cos_sim(embedding_matrix, token2id, word1, word2):\n",
    "        \n",
    "    i1 = token2id[word1]\n",
    "    i2 = token2id[word2]\n",
    "    \n",
    "    v1, v2 = embedding_matrix[i1], embedding_matrix[i2]\n",
    "    \n",
    "    v1_n = v1.div(v1.norm(keepdim=True))\n",
    "    v2_n = v2.div(v2.norm(keepdim=True))\n",
    "    \n",
    "    similarity = torch.dot(v1_n, v2_n).item()\n",
    "    \n",
    "    return similarity"
   ]
  },
  {
   "cell_type": "markdown",
   "metadata": {},
   "source": [
    "# Косинусная близость\n",
    "От 0 до 1, где 0 - вектора абсолютно разные, где 1 - идентичные."
   ]
  },
  {
   "cell_type": "code",
   "execution_count": 44,
   "metadata": {},
   "outputs": [
    {
     "data": {
      "text/plain": [
       "0.6123911738395691"
      ]
     },
     "execution_count": 44,
     "metadata": {},
     "output_type": "execute_result"
    }
   ],
   "source": [
    "cos_sim(embedding_matrix, word2index, 'день', 'месяц')"
   ]
  },
  {
   "cell_type": "code",
   "execution_count": 45,
   "metadata": {},
   "outputs": [
    {
     "data": {
      "text/plain": [
       "0.4344053864479065"
      ]
     },
     "execution_count": 45,
     "metadata": {},
     "output_type": "execute_result"
    }
   ],
   "source": [
    "cos_sim(embedding_matrix, word2index, 'минута', 'месяц')"
   ]
  },
  {
   "cell_type": "code",
   "execution_count": 46,
   "metadata": {},
   "outputs": [
    {
     "data": {
      "text/plain": [
       "0.7874667644500732"
      ]
     },
     "execution_count": 46,
     "metadata": {},
     "output_type": "execute_result"
    }
   ],
   "source": [
    "cos_sim(embedding_matrix, word2index, 'сотрудник', 'сотрудница')"
   ]
  },
  {
   "cell_type": "code",
   "execution_count": 47,
   "metadata": {},
   "outputs": [
    {
     "data": {
      "text/plain": [
       "0.5129177570343018"
      ]
     },
     "execution_count": 47,
     "metadata": {},
     "output_type": "execute_result"
    }
   ],
   "source": [
    "cos_sim(embedding_matrix, word2index, 'вклад', 'перевод')"
   ]
  },
  {
   "cell_type": "code",
   "execution_count": 48,
   "metadata": {},
   "outputs": [
    {
     "data": {
      "text/plain": [
       "'Косинусная близость слова \"день\" к случайному выбраному слову \"майла\" равна -0.098'"
      ]
     },
     "execution_count": 48,
     "metadata": {},
     "output_type": "execute_result"
    }
   ],
   "source": [
    "random_word = random.choice(list(word2index.keys()))\n",
    "sim = cos_sim(embedding_matrix, word2index, 'день', random_word)\n",
    "'Косинусная близость слова \"день\" к случайному выбраному слову \"{}\" равна {:.3f}'.format(random_word, sim)"
   ]
  },
  {
   "cell_type": "code",
   "execution_count": 5,
   "metadata": {},
   "outputs": [
    {
     "name": "stdout",
     "output_type": "stream",
     "text": [
      "[t-SNE] Computing 91 nearest neighbors...\n",
      "[t-SNE] Indexed 13076 samples in 0.001s...\n",
      "[t-SNE] Computed neighbors for 13076 samples in 0.835s...\n",
      "[t-SNE] Computed conditional probabilities for sample 1000 / 13076\n",
      "[t-SNE] Computed conditional probabilities for sample 2000 / 13076\n",
      "[t-SNE] Computed conditional probabilities for sample 3000 / 13076\n",
      "[t-SNE] Computed conditional probabilities for sample 4000 / 13076\n",
      "[t-SNE] Computed conditional probabilities for sample 5000 / 13076\n",
      "[t-SNE] Computed conditional probabilities for sample 6000 / 13076\n",
      "[t-SNE] Computed conditional probabilities for sample 7000 / 13076\n",
      "[t-SNE] Computed conditional probabilities for sample 8000 / 13076\n",
      "[t-SNE] Computed conditional probabilities for sample 9000 / 13076\n",
      "[t-SNE] Computed conditional probabilities for sample 10000 / 13076\n",
      "[t-SNE] Computed conditional probabilities for sample 11000 / 13076\n",
      "[t-SNE] Computed conditional probabilities for sample 12000 / 13076\n",
      "[t-SNE] Computed conditional probabilities for sample 13000 / 13076\n",
      "[t-SNE] Computed conditional probabilities for sample 13076 / 13076\n",
      "[t-SNE] Mean sigma: 1.150989\n",
      "[t-SNE] Computed conditional probabilities in 0.533s\n",
      "[t-SNE] Iteration 50: error = 98.5685120, gradient norm = 0.0000000 (50 iterations in 1.772s)\n",
      "[t-SNE] Iteration 50: gradient norm 0.000000. Finished.\n",
      "[t-SNE] KL divergence after 50 iterations with early exaggeration: 98.568512\n",
      "[t-SNE] Iteration 100: error = 5.5097699, gradient norm = 0.0532729 (50 iterations in 1.655s)\n",
      "[t-SNE] Iteration 150: error = 4.7739253, gradient norm = 0.0048280 (50 iterations in 1.455s)\n",
      "[t-SNE] Iteration 200: error = 4.6685200, gradient norm = 0.0051797 (50 iterations in 1.391s)\n",
      "[t-SNE] Iteration 250: error = 4.5911570, gradient norm = 0.0052422 (50 iterations in 1.383s)\n",
      "[t-SNE] Iteration 300: error = 4.5320215, gradient norm = 0.0052563 (50 iterations in 1.396s)\n",
      "[t-SNE] Iteration 350: error = 4.4848528, gradient norm = 0.0051719 (50 iterations in 1.437s)\n",
      "[t-SNE] Iteration 400: error = 4.4471474, gradient norm = 0.0050781 (50 iterations in 1.400s)\n",
      "[t-SNE] Iteration 450: error = 4.4161863, gradient norm = 0.0049235 (50 iterations in 1.411s)\n",
      "[t-SNE] Iteration 500: error = 4.3907776, gradient norm = 0.0046889 (50 iterations in 1.402s)\n",
      "[t-SNE] Iteration 550: error = 4.3699336, gradient norm = 0.0043749 (50 iterations in 1.392s)\n",
      "[t-SNE] Iteration 600: error = 4.3525834, gradient norm = 0.0041562 (50 iterations in 1.388s)\n",
      "[t-SNE] Iteration 650: error = 4.3379855, gradient norm = 0.0038993 (50 iterations in 1.401s)\n",
      "[t-SNE] Iteration 700: error = 4.3255892, gradient norm = 0.0036266 (50 iterations in 1.403s)\n",
      "[t-SNE] Iteration 750: error = 4.3149447, gradient norm = 0.0034781 (50 iterations in 1.416s)\n",
      "[t-SNE] Iteration 800: error = 4.3059859, gradient norm = 0.0031451 (50 iterations in 1.407s)\n",
      "[t-SNE] Iteration 850: error = 4.2980247, gradient norm = 0.0030050 (50 iterations in 1.393s)\n",
      "[t-SNE] Iteration 900: error = 4.2910032, gradient norm = 0.0028914 (50 iterations in 1.391s)\n",
      "[t-SNE] Iteration 950: error = 4.2848840, gradient norm = 0.0026881 (50 iterations in 1.400s)\n",
      "[t-SNE] Iteration 1000: error = 4.2795868, gradient norm = 0.0023495 (50 iterations in 1.389s)\n",
      "[t-SNE] KL divergence after 1000 iterations: 4.279587\n"
     ]
    }
   ],
   "source": [
    "tsne = TSNE(n_components=2, init='pca', random_state=42, verbose=2)\n",
    "reduced = tsne.fit_transform(embedding_matrix)"
   ]
  },
  {
   "cell_type": "code",
   "execution_count": 8,
   "metadata": {},
   "outputs": [],
   "source": [
    "freq = {}\n",
    "\n",
    "for text in corpus:\n",
    "    for token in text:\n",
    "        if token in freq:\n",
    "            freq[token] += 1\n",
    "        else:\n",
    "            freq[token] = 1\n",
    "            \n",
    "sorted_freq = [(k, freq[k]) for k in sorted(freq, key=freq.get, reverse=True)]\n",
    "top_sorted_freq = sorted_freq[0:200]\n",
    "top_words = [a for a,_ in top_sorted_freq]\n",
    "inds = [word2index[word] for word in top_words]\n",
    "x_coords = [coords[0] for coords in reduced[inds]]\n",
    "y_coords = [coords[1] for coords in reduced[inds]]"
   ]
  },
  {
   "cell_type": "code",
   "execution_count": 9,
   "metadata": {},
   "outputs": [
    {
     "data": {
      "image/png": "[encoded data removed]",
      "text/plain": [
       "<Figure size 1500x1500 with 1 Axes>"
      ]
     },
     "metadata": {},
     "output_type": "display_data"
    }
   ],
   "source": [
    "for (x, y, word) in zip(x_coords, y_coords, top_words):\n",
    "    plt.scatter(x, y, marker='.', color='blue')\n",
    "    plt.text(x+0.01, y+0.01, word, fontsize=9)\n",
    "plt.show()"
   ]
  },
  {
   "cell_type": "markdown",
   "metadata": {},
   "source": [
    "# Сравнивая результаты человеческой разметки и наши вектора"
   ]
  },
  {
   "cell_type": "code",
   "execution_count": 53,
   "metadata": {},
   "outputs": [],
   "source": [
    "# подгружаем размеченные данные\n",
    "import pandas as pd\n",
    "\n",
    "ru_simlex965 = pd.read_csv('data/ru_simlex965_tagged.tsv', sep='\\t')"
   ]
  },
  {
   "cell_type": "code",
   "execution_count": 54,
   "metadata": {},
   "outputs": [],
   "source": [
    "# чистим данные (частеречные теги не используем, потому что в данных их нет)\n",
    "ru_simlex965.rename(columns={'# Word1': 'Word1'}, inplace=True)\n",
    "s_strip = lambda x: x.split('_')[0]\n",
    "ru_simlex965.Word1 = ru_simlex965.Word1.apply(s_strip)\n",
    "ru_simlex965.Word2 = ru_simlex965.Word2.apply(s_strip)"
   ]
  },
  {
   "cell_type": "code",
   "execution_count": 55,
   "metadata": {},
   "outputs": [],
   "source": [
    "# считаем cosine_similarities для тех слов, которые есть в нашем словаре\n",
    "cosine_similarities = [cos_sim(embedding_matrix, word2index, w1, w2) if w1 in word2index and w2 in word2index else np.nan\n",
    "                       for w1, w2 in zip(ru_simlex965.Word1, ru_simlex965.Word2)]\n",
    "ru_simlex965['CosineSimilarities'] = cosine_similarities"
   ]
  },
  {
   "cell_type": "code",
   "execution_count": 56,
   "metadata": {},
   "outputs": [
    {
     "data": {
      "text/plain": [
       "(677, 0.6404919583727531)"
      ]
     },
     "execution_count": 56,
     "metadata": {},
     "output_type": "execute_result"
    }
   ],
   "source": [
    "# посмотрим, скольких слов нет в нашем корпусе\n",
    "all_words = pd.concat([ru_simlex965.Word1, ru_simlex965.Word2]).unique()\n",
    "not_in_word2index = sum([w in word2index for w in all_words])\n",
    "not_in_word2index, not_in_word2index / len(all_words)"
   ]
  },
  {
   "cell_type": "code",
   "execution_count": 57,
   "metadata": {},
   "outputs": [
    {
     "data": {
      "text/html": [
       "<div>\n",
       "<style scoped>\n",
       "    .dataframe tbody tr th:only-of-type {\n",
       "        vertical-align: middle;\n",
       "    }\n",
       "\n",
       "    .dataframe tbody tr th {\n",
       "        vertical-align: top;\n",
       "    }\n",
       "\n",
       "    .dataframe thead th {\n",
       "        text-align: right;\n",
       "    }\n",
       "</style>\n",
       "<table border=\"1\" class=\"dataframe\">\n",
       "  <thead>\n",
       "    <tr style=\"text-align: right;\">\n",
       "      <th></th>\n",
       "      <th>Average Score</th>\n",
       "      <th>CosineSimilarities</th>\n",
       "    </tr>\n",
       "  </thead>\n",
       "  <tbody>\n",
       "    <tr>\n",
       "      <th>Average Score</th>\n",
       "      <td>1.000000</td>\n",
       "      <td>0.093401</td>\n",
       "    </tr>\n",
       "    <tr>\n",
       "      <th>CosineSimilarities</th>\n",
       "      <td>0.093401</td>\n",
       "      <td>1.000000</td>\n",
       "    </tr>\n",
       "  </tbody>\n",
       "</table>\n",
       "</div>"
      ],
      "text/plain": [
       "                    Average Score  CosineSimilarities\n",
       "Average Score            1.000000            0.093401\n",
       "CosineSimilarities       0.093401            1.000000"
      ]
     },
     "execution_count": 57,
     "metadata": {},
     "output_type": "execute_result"
    }
   ],
   "source": [
    "# посчитаем корреляцию Спирмана для наших выходных данных и чистых данных\n",
    "# как было описано в статье\n",
    "ru_simlex965.dropna()[['Average Score', 'CosineSimilarities']].corr(method='spearman')"
   ]
  },
  {
   "cell_type": "code",
   "execution_count": 58,
   "metadata": {},
   "outputs": [
    {
     "data": {
      "text/plain": [
       "0.13474695407371243"
      ]
     },
     "execution_count": 58,
     "metadata": {},
     "output_type": "execute_result"
    }
   ],
   "source": [
    "# также посчитаем mse для получившихся результатов\n",
    "# прежде отнормировав Average Score \n",
    "from sklearn.metrics import mean_squared_error as mse\n",
    "\n",
    "ru_simlex965['NormalizedScore'] = ru_simlex965['Average Score'] / ru_simlex965['Average Score'].max()\n",
    "mse(y_true=ru_simlex965.dropna()['NormalizedScore'],\n",
    "    y_pred=ru_simlex965.dropna()['CosineSimilarities'])"
   ]
  },
  {
   "cell_type": "markdown",
   "metadata": {},
   "source": [
    "Возможно имеет смысл сделать лучшую предобработку \n",
    "\n",
    "    1. поправив опечатки,\n",
    "    2. лемматизируя в Mystem с дизамбигуацией и частеречной разметкой,\n",
    "    3. возможно, разбавить корпус другими типами текстов\n",
    "    \n",
    "Но это немного долго\n",
    "\n",
    "    К О Н Е Ц"
   ]
  }
 ],
 "metadata": {
  "kernelspec": {
   "display_name": "Python 3 (ipykernel)",
   "language": "python",
   "name": "python3"
  },
  "language_info": {
   "codemirror_mode": {
    "name": "ipython",
    "version": 3
   },
   "file_extension": ".py",
   "mimetype": "text/x-python",
   "name": "python",
   "nbconvert_exporter": "python",
   "pygments_lexer": "ipython3",
   "version": "3.9.13"
  }
 },
 "nbformat": 4,
 "nbformat_minor": 2
}
