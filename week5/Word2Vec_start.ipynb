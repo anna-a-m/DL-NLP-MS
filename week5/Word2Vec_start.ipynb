{
  "nbformat": 4,
  "nbformat_minor": 0,
  "metadata": {
    "colab": {
      "provenance": []
    },
    "kernelspec": {
      "name": "python3",
      "display_name": "Python 3"
    },
    "language_info": {
      "name": "python"
    }
  },
  "cells": [
    {
      "cell_type": "code",
      "metadata": {
        "id": "Nrce9tFOzO0R"
      },
      "source": [
        "import torch"
      ],
      "execution_count": 2,
      "outputs": []
    },
    {
      "cell_type": "code",
      "source": [
        "[]"
      ],
      "metadata": {
        "id": "XlAdKZWXmWgr"
      },
      "execution_count": null,
      "outputs": []
    },
    {
      "cell_type": "code",
      "metadata": {
        "id": "Wmoxph9nzRYe"
      },
      "source": [
        "a = torch.rand(2)"
      ],
      "execution_count": null,
      "outputs": []
    },
    {
      "cell_type": "code",
      "metadata": {
        "colab": {
          "base_uri": "https://localhost:8080/"
        },
        "id": "vbosa3ao25Re",
        "outputId": "c8273d4d-5d9d-4688-940e-c496b3301af7"
      },
      "source": [
        "a"
      ],
      "execution_count": null,
      "outputs": [
        {
          "output_type": "execute_result",
          "data": {
            "text/plain": [
              "tensor([0.6311, 0.7381])"
            ]
          },
          "metadata": {},
          "execution_count": 3
        }
      ]
    },
    {
      "cell_type": "code",
      "metadata": {
        "id": "1-JFo4Il3Vg2"
      },
      "source": [
        "a = a.unsqueeze(0)"
      ],
      "execution_count": null,
      "outputs": []
    },
    {
      "cell_type": "code",
      "metadata": {
        "colab": {
          "base_uri": "https://localhost:8080/"
        },
        "id": "5S3x_Ksh3RA5",
        "outputId": "13101679-078a-4df1-d3aa-ebb05129cbeb"
      },
      "source": [
        "a.size()"
      ],
      "execution_count": null,
      "outputs": [
        {
          "output_type": "execute_result",
          "data": {
            "text/plain": [
              "torch.Size([1, 2])"
            ]
          },
          "metadata": {},
          "execution_count": 5
        }
      ]
    },
    {
      "cell_type": "code",
      "metadata": {
        "colab": {
          "base_uri": "https://localhost:8080/"
        },
        "id": "kZi_HnCf3c1O",
        "outputId": "9255cbbc-27b3-496e-8e0b-6111f6c51ead"
      },
      "source": [
        "a"
      ],
      "execution_count": null,
      "outputs": [
        {
          "output_type": "execute_result",
          "data": {
            "text/plain": [
              "tensor([[0.6311, 0.7381]])"
            ]
          },
          "metadata": {},
          "execution_count": 6
        }
      ]
    },
    {
      "cell_type": "code",
      "metadata": {
        "colab": {
          "base_uri": "https://localhost:8080/"
        },
        "id": "8DyNciE526AV",
        "outputId": "26836a7f-f74d-409c-e0f1-c54f3b9634b2"
      },
      "source": [
        "b = torch.rand(2)\n",
        "b = b.unsqueeze(0)\n",
        "b"
      ],
      "execution_count": null,
      "outputs": [
        {
          "output_type": "execute_result",
          "data": {
            "text/plain": [
              "tensor([[0.2663, 0.6112]])"
            ]
          },
          "metadata": {},
          "execution_count": 7
        }
      ]
    },
    {
      "cell_type": "code",
      "metadata": {
        "id": "cZKPX9uH4U-Q"
      },
      "source": [],
      "execution_count": null,
      "outputs": []
    },
    {
      "cell_type": "code",
      "metadata": {
        "colab": {
          "base_uri": "https://localhost:8080/"
        },
        "id": "9YANOd8z29g6",
        "outputId": "7a26dff1-74c9-4250-9366-4ae66e833dda"
      },
      "source": [
        "# (z, x) * (x, y) = (z, y) \n",
        "torch.matmul(a, b.transpose(0, 1))"
      ],
      "execution_count": null,
      "outputs": [
        {
          "output_type": "execute_result",
          "data": {
            "text/plain": [
              "tensor([[0.6192]])"
            ]
          },
          "metadata": {},
          "execution_count": 8
        }
      ]
    },
    {
      "cell_type": "code",
      "metadata": {
        "colab": {
          "base_uri": "https://localhost:8080/"
        },
        "id": "lS0EfsrE4Tbu",
        "outputId": "d68fcbff-8267-422c-f688-d617aa415575"
      },
      "source": [
        "text = \"token0 token1 token2 token3 token4\"\n",
        "tokens = text.split()\n",
        "set(tokens)"
      ],
      "execution_count": 4,
      "outputs": [
        {
          "output_type": "execute_result",
          "data": {
            "text/plain": [
              "{'token0', 'token1', 'token2', 'token3', 'token4'}"
            ]
          },
          "metadata": {},
          "execution_count": 4
        }
      ]
    },
    {
      "cell_type": "code",
      "metadata": {
        "colab": {
          "base_uri": "https://localhost:8080/"
        },
        "id": "YXNgzXnADboy",
        "outputId": "493dd004-89bd-4fde-95f7-a0509e5e9ccd"
      },
      "source": [
        "vocab2id = {j:i for i, j in enumerate(list(set(tokens)))}\n",
        "vocab2id"
      ],
      "execution_count": 5,
      "outputs": [
        {
          "output_type": "execute_result",
          "data": {
            "text/plain": [
              "{'token4': 0, 'token2': 1, 'token3': 2, 'token1': 3, 'token0': 4}"
            ]
          },
          "metadata": {},
          "execution_count": 5
        }
      ]
    },
    {
      "cell_type": "code",
      "source": [
        "[0, 0, 1, 0, 0]"
      ],
      "metadata": {
        "colab": {
          "base_uri": "https://localhost:8080/"
        },
        "id": "MrM8A9X6mpaa",
        "outputId": "c67c4d05-d01b-47a7-aa3b-06f0f73f425a"
      },
      "execution_count": 6,
      "outputs": [
        {
          "output_type": "execute_result",
          "data": {
            "text/plain": [
              "[0, 0, 1, 0, 0]"
            ]
          },
          "metadata": {},
          "execution_count": 6
        }
      ]
    },
    {
      "cell_type": "code",
      "metadata": {
        "id": "BUwOP2NWDo4w"
      },
      "source": [
        "embedding = torch.rand(5, 300)"
      ],
      "execution_count": 7,
      "outputs": []
    },
    {
      "cell_type": "code",
      "metadata": {
        "id": "1a13P_bFF7-Q"
      },
      "source": [
        "# seq_len X vocab_size\n",
        "# seq_len X embed_dim"
      ],
      "execution_count": 8,
      "outputs": []
    },
    {
      "cell_type": "code",
      "metadata": {
        "colab": {
          "base_uri": "https://localhost:8080/"
        },
        "id": "8zXxy5pOD43z",
        "outputId": "563bb938-9a3a-4602-fea3-8fcccf91ed78"
      },
      "source": [
        "vectors_list = []\n",
        "for token in text.split():\n",
        "  zero_list = [0] * len(vocab2id)\n",
        "  zero_list[vocab2id[token]] = 1\n",
        "  vector_index_token = torch.FloatTensor([zero_list])\n",
        "  print(vector_index_token)\n",
        "  token_embediing = torch.matmul(vector_index_token, embedding)\n",
        "  print(token_embediing)\n",
        "  break"
      ],
      "execution_count": 9,
      "outputs": [
        {
          "output_type": "stream",
          "name": "stdout",
          "text": [
            "tensor([[0., 0., 0., 0., 1.]])\n",
            "tensor([[0.7482, 0.0813, 0.2078, 0.5862, 0.2929, 0.0568, 0.5187, 0.6385, 0.7633,\n",
            "         0.7938, 0.1479, 0.7344, 0.0965, 0.5845, 0.9447, 0.6205, 0.9843, 0.4492,\n",
            "         0.3357, 0.5231, 0.4542, 0.0104, 0.2612, 0.9847, 0.2407, 0.5858, 0.4796,\n",
            "         0.3280, 0.3622, 0.8591, 0.4341, 0.1420, 0.7077, 0.2423, 0.7156, 0.5860,\n",
            "         0.6475, 0.1121, 0.1043, 0.0667, 0.7676, 0.6809, 0.4258, 0.2563, 0.7089,\n",
            "         0.4660, 0.4279, 0.8948, 0.8009, 0.0062, 0.2182, 0.7840, 0.0050, 0.7832,\n",
            "         0.7724, 0.3490, 0.4707, 0.0266, 0.8315, 0.7134, 0.3352, 0.6606, 0.8061,\n",
            "         0.3989, 0.1659, 0.6839, 0.0245, 0.1066, 0.2916, 0.9648, 0.1593, 0.7135,\n",
            "         0.6433, 0.1463, 0.0353, 0.4062, 0.5863, 0.0182, 0.5398, 0.2638, 0.0490,\n",
            "         0.7825, 0.4447, 0.5298, 0.3696, 0.5160, 0.7654, 0.7172, 0.9090, 0.9022,\n",
            "         0.6841, 0.3234, 0.4453, 0.4696, 0.9885, 0.3150, 0.0828, 0.1081, 0.7033,\n",
            "         0.5095, 0.0371, 0.9392, 0.1328, 0.8474, 0.9265, 0.7840, 0.0562, 0.1240,\n",
            "         0.7037, 0.6557, 0.4617, 0.1345, 0.6176, 0.1096, 0.9446, 0.4042, 0.6000,\n",
            "         0.8552, 0.3877, 0.5454, 0.4182, 0.2136, 0.1522, 0.7595, 0.4618, 0.0425,\n",
            "         0.0299, 0.1998, 0.6693, 0.5105, 0.9536, 0.7348, 0.9441, 0.0071, 0.9078,\n",
            "         0.8020, 0.6054, 0.2128, 0.2545, 0.5335, 0.3259, 0.7334, 0.0142, 0.0443,\n",
            "         0.9773, 0.2612, 0.0118, 0.7222, 0.3307, 0.9007, 0.5575, 0.8059, 0.3269,\n",
            "         0.6846, 0.7826, 0.5569, 0.5867, 0.1045, 0.8901, 0.6375, 0.5743, 0.2393,\n",
            "         0.0460, 0.2354, 0.4043, 0.7183, 0.5171, 0.5338, 0.9166, 0.0893, 0.6854,\n",
            "         0.7278, 0.1668, 0.5417, 0.7657, 0.3209, 0.9318, 0.9652, 0.1372, 0.0355,\n",
            "         0.4367, 0.7187, 0.9258, 0.0842, 0.4297, 0.0561, 0.6367, 0.9436, 0.6902,\n",
            "         0.8586, 0.3051, 0.8603, 0.9544, 0.1131, 0.3513, 0.0383, 0.4393, 0.5415,\n",
            "         0.8870, 0.1581, 0.8180, 0.8018, 0.7484, 0.2682, 0.7401, 0.3396, 0.2520,\n",
            "         0.0343, 0.9390, 0.7356, 0.3023, 0.5196, 0.9932, 0.8335, 0.1488, 0.5574,\n",
            "         0.6119, 0.6155, 0.6510, 0.2661, 0.8231, 0.5623, 0.6677, 0.9161, 0.3247,\n",
            "         0.1889, 0.9750, 0.3150, 0.6491, 0.9480, 0.7045, 0.3211, 0.1780, 0.6476,\n",
            "         0.3760, 0.0698, 0.3054, 0.1858, 0.4249, 0.7553, 0.3910, 0.2580, 0.5816,\n",
            "         0.9581, 0.8977, 0.2187, 0.8344, 0.0241, 0.7153, 0.2371, 0.2007, 0.0594,\n",
            "         0.4142, 0.9591, 0.0048, 0.9756, 0.1294, 0.5358, 0.3628, 0.9510, 0.7399,\n",
            "         0.9894, 0.0718, 0.7286, 0.7756, 0.0918, 0.9722, 0.5626, 0.8182, 0.7413,\n",
            "         0.5808, 0.8477, 0.7396, 0.0356, 0.1730, 0.3998, 0.1129, 0.8452, 0.7155,\n",
            "         0.6637, 0.2858, 0.7840, 0.5907, 0.8497, 0.8371, 0.8915, 0.4074, 0.3249,\n",
            "         0.2216, 0.6675, 0.7869, 0.1883, 0.6988, 0.2274, 0.8139, 0.1643, 0.4622,\n",
            "         0.4637, 0.2148, 0.3174]])\n"
          ]
        }
      ]
    },
    {
      "cell_type": "code",
      "metadata": {
        "id": "LfCbuhC7EER6"
      },
      "source": [
        "from torch import nn"
      ],
      "execution_count": 10,
      "outputs": []
    },
    {
      "cell_type": "code",
      "metadata": {
        "id": "RPQYRz0E-YKT"
      },
      "source": [
        "# embed_dim X len(vocab_size)"
      ],
      "execution_count": 11,
      "outputs": []
    },
    {
      "cell_type": "code",
      "metadata": {
        "colab": {
          "base_uri": "https://localhost:8080/"
        },
        "id": "vIYWxza81e1i",
        "outputId": "6b81e100-70c3-438c-8bb3-1a58b6af4ecb"
      },
      "source": [
        "token_embediing.shape"
      ],
      "execution_count": 12,
      "outputs": [
        {
          "output_type": "execute_result",
          "data": {
            "text/plain": [
              "torch.Size([1, 300])"
            ]
          },
          "metadata": {},
          "execution_count": 12
        }
      ]
    },
    {
      "cell_type": "code",
      "metadata": {
        "id": "bjLT_1Pi632b"
      },
      "source": [
        "linear_transform = torch.rand(300, 100000)"
      ],
      "execution_count": 13,
      "outputs": []
    },
    {
      "cell_type": "code",
      "source": [],
      "metadata": {
        "id": "BqDU8qztqxOa"
      },
      "execution_count": null,
      "outputs": []
    },
    {
      "cell_type": "code",
      "metadata": {
        "id": "348V-e9x8Q0c"
      },
      "source": [
        "# token0 -> token1\n",
        "w2v_logits = torch.matmul(token_embediing, linear_transform)"
      ],
      "execution_count": 14,
      "outputs": []
    },
    {
      "cell_type": "code",
      "source": [
        "w2v_logits"
      ],
      "metadata": {
        "colab": {
          "base_uri": "https://localhost:8080/"
        },
        "id": "ydigmvNqq0Rc",
        "outputId": "1ce95528-848b-4684-c1ff-0a8b3074d2c6"
      },
      "execution_count": 15,
      "outputs": [
        {
          "output_type": "execute_result",
          "data": {
            "text/plain": [
              "tensor([[75.8004, 73.5028, 74.2753, 79.8749, 74.9903]])"
            ]
          },
          "metadata": {},
          "execution_count": 15
        }
      ]
    },
    {
      "cell_type": "code",
      "metadata": {
        "colab": {
          "base_uri": "https://localhost:8080/"
        },
        "id": "0h192A_G7YZC",
        "outputId": "51788072-01ff-4465-d5f0-e9ff26a688d5"
      },
      "source": [
        "w2v_probs = nn.functional.softmax(w2v_logits)\n",
        "w2v_probs"
      ],
      "execution_count": 16,
      "outputs": [
        {
          "output_type": "stream",
          "name": "stderr",
          "text": [
            "/usr/local/lib/python3.7/dist-packages/ipykernel_launcher.py:1: UserWarning: Implicit dimension choice for softmax has been deprecated. Change the call to include dim=X as an argument.\n",
            "  \"\"\"Entry point for launching an IPython kernel.\n"
          ]
        },
        {
          "output_type": "execute_result",
          "data": {
            "text/plain": [
              "tensor([[0.0165, 0.0017, 0.0036, 0.9709, 0.0073]])"
            ]
          },
          "metadata": {},
          "execution_count": 16
        }
      ]
    },
    {
      "cell_type": "code",
      "source": [
        "token0 -- token3\n",
        "\n",
        "[0.0165, 0.0017, 0.0036, 0.9709, 0.0073]\n",
        "[0.,     0.,     0.,      1.,       0.]"
      ],
      "metadata": {
        "id": "kPs5nNMZpCSz"
      },
      "execution_count": null,
      "outputs": []
    },
    {
      "cell_type": "code",
      "metadata": {
        "id": "miHybgKK8PU_"
      },
      "source": [
        "target = torch.LongTensor([1])"
      ],
      "execution_count": null,
      "outputs": []
    },
    {
      "cell_type": "code",
      "metadata": {
        "id": "6lUGoRZ2AJZk"
      },
      "source": [
        "loss = torch.nn.NLLLoss()"
      ],
      "execution_count": null,
      "outputs": []
    },
    {
      "cell_type": "code",
      "metadata": {
        "colab": {
          "base_uri": "https://localhost:8080/"
        },
        "id": "_Ao8E6gbBfbI",
        "outputId": "b77490c8-5dff-4175-8c9e-0925aa89e8d9"
      },
      "source": [
        "w2v_probs.shape, target.shape"
      ],
      "execution_count": null,
      "outputs": [
        {
          "output_type": "execute_result",
          "data": {
            "text/plain": [
              "(torch.Size([1, 5]), torch.Size([1]))"
            ]
          },
          "metadata": {},
          "execution_count": 46
        }
      ]
    },
    {
      "cell_type": "code",
      "metadata": {
        "colab": {
          "base_uri": "https://localhost:8080/"
        },
        "id": "vxz1FYFAAiDR",
        "outputId": "ac0d79a3-3864-43e9-eb6b-961d7d2ceef1"
      },
      "source": [
        "loss(w2v_probs, target)"
      ],
      "execution_count": null,
      "outputs": [
        {
          "output_type": "execute_result",
          "data": {
            "text/plain": [
              "tensor(-0.0026)"
            ]
          },
          "metadata": {},
          "execution_count": 47
        }
      ]
    },
    {
      "cell_type": "code",
      "metadata": {
        "id": "BgJT2aPnAnfc"
      },
      "source": [
        "# batch_size X window_size X embed_dim"
      ],
      "execution_count": null,
      "outputs": []
    }
  ]
}